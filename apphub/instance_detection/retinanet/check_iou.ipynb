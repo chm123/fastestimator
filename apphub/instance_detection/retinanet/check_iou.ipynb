{
 "cells": [
  {
   "cell_type": "code",
   "execution_count": 1,
   "metadata": {},
   "outputs": [],
   "source": [
    "import numpy as np\n",
    "\n",
    "from pycocotools import mask as maskUtils"
   ]
  },
  {
   "cell_type": "code",
   "execution_count": 12,
   "metadata": {},
   "outputs": [],
   "source": [
    "# x1, y1, w, h\n",
    "boxes_a = np.array([[3, 8.4, 8, 12], [4, 8, 3, 12], [9,8,7,6]]).astype(np.double)\n",
    "boxes_b = np.array([[4, 8, 9, 11], [4, 8, 8, 13]]).astype(np.double)"
   ]
  },
  {
   "cell_type": "code",
   "execution_count": 13,
   "metadata": {},
   "outputs": [],
   "source": [
    "# size_a = (430, 4)\n",
    "# size_b = (800, 4)\n",
    "# boxes_a = 512 * np.random.random(size_a).astype(np.double)\n",
    "# boxes_b = 512 * np.random.random(size_b).astype(np.double)"
   ]
  },
  {
   "cell_type": "code",
   "execution_count": 14,
   "metadata": {},
   "outputs": [],
   "source": [
    "# %%timeit\n",
    "# maskUtils.iou(boxes_a, boxes_b, [0, 0, 0])"
   ]
  },
  {
   "cell_type": "code",
   "execution_count": 15,
   "metadata": {},
   "outputs": [],
   "source": [
    "def compute_iou(boxes1, boxes2, include_boarder=False):\n",
    "        \"\"\"Computes the value of intersection over union (IoU) of two array of boxes.\n",
    "        Args:\n",
    "            box1 (array): first boxes in N x 4\n",
    "            box2 (array): second box in M x 4\n",
    "        Returns:\n",
    "            float: IoU value in N x M\n",
    "        \"\"\"\n",
    "        if include_boarder:\n",
    "            offset = 1.0\n",
    "        else:\n",
    "            offset = 0.0\n",
    "        \n",
    "        x11, y11, w1, h1 = np.split(boxes1, 4, axis=1)\n",
    "        x21, y21, w2, h2 = np.split(boxes2, 4, axis=1)\n",
    "        x12 = x11 + w1\n",
    "        y12 = y11 + h1\n",
    "        x22 = x21 + w2\n",
    "        y22 = y21 + h2\n",
    "        xmin = np.maximum(x11, np.transpose(x21))\n",
    "        ymin = np.maximum(y11, np.transpose(y21))\n",
    "        xmax = np.minimum(x12, np.transpose(x22))\n",
    "        ymax = np.minimum(y12, np.transpose(y22))\n",
    "        inter_area = np.maximum((xmax - xmin + offset), 0) * np.maximum((ymax - ymin + offset), 0)\n",
    "        area1 = (w1 + offset) * (h1 + offset)\n",
    "        area2 = (w2 + offset) * (h2 + offset)\n",
    "        iou = inter_area / (area1 + area2.T - inter_area)\n",
    "        return iou"
   ]
  },
  {
   "cell_type": "code",
   "execution_count": 16,
   "metadata": {},
   "outputs": [],
   "source": [
    "# %%timeit\n",
    "# compute_iou(boxes_a, boxes_b)"
   ]
  },
  {
   "cell_type": "code",
   "execution_count": 17,
   "metadata": {},
   "outputs": [],
   "source": [
    "out = compute_iou(boxes_a, boxes_b)"
   ]
  },
  {
   "cell_type": "code",
   "execution_count": 19,
   "metadata": {},
   "outputs": [
    {
     "data": {
      "text/plain": [
       "array([[0.61423841, 0.72413793],\n",
       "       [0.32352941, 0.34615385],\n",
       "       [0.20512821, 0.140625  ]])"
      ]
     },
     "execution_count": 19,
     "metadata": {},
     "output_type": "execute_result"
    }
   ],
   "source": [
    "out"
   ]
  },
  {
   "cell_type": "code",
   "execution_count": 21,
   "metadata": {},
   "outputs": [
    {
     "data": {
      "text/plain": [
       "(3, 2)"
      ]
     },
     "execution_count": 21,
     "metadata": {},
     "output_type": "execute_result"
    }
   ],
   "source": [
    "out.shape"
   ]
  },
  {
   "cell_type": "code",
   "execution_count": 22,
   "metadata": {},
   "outputs": [
    {
     "data": {
      "text/plain": [
       "array([[0.61423841, 1.33837634],\n",
       "       [0.32352941, 0.66968326],\n",
       "       [0.20512821, 0.34575321]])"
      ]
     },
     "execution_count": 22,
     "metadata": {},
     "output_type": "execute_result"
    }
   ],
   "source": [
    "np.cumsum(out, axis=1)"
   ]
  },
  {
   "cell_type": "code",
   "execution_count": 40,
   "metadata": {},
   "outputs": [],
   "source": [
    "assert np.array_equal(out, maskUtils.iou(boxes_a, boxes_b, [0] * boxes_b.shape[0]))"
   ]
  },
  {
   "cell_type": "code",
   "execution_count": 24,
   "metadata": {},
   "outputs": [
    {
     "data": {
      "text/plain": [
       "[3, 2, 1, 0, -1]"
      ]
     },
     "execution_count": 24,
     "metadata": {},
     "output_type": "execute_result"
    }
   ],
   "source": [
    "list(range(3, -2, -1))"
   ]
  },
  {
   "cell_type": "code",
   "execution_count": null,
   "metadata": {},
   "outputs": [],
   "source": []
  }
 ],
 "metadata": {
  "kernelspec": {
   "display_name": "Python 3",
   "language": "python",
   "name": "python3"
  },
  "language_info": {
   "codemirror_mode": {
    "name": "ipython",
    "version": 3
   },
   "file_extension": ".py",
   "mimetype": "text/x-python",
   "name": "python",
   "nbconvert_exporter": "python",
   "pygments_lexer": "ipython3",
   "version": "3.7.6"
  },
  "toc": {
   "base_numbering": 1,
   "nav_menu": {},
   "number_sections": true,
   "sideBar": true,
   "skip_h1_title": false,
   "title_cell": "Table of Contents",
   "title_sidebar": "Contents",
   "toc_cell": false,
   "toc_position": {},
   "toc_section_display": true,
   "toc_window_display": false
  }
 },
 "nbformat": 4,
 "nbformat_minor": 4
}
