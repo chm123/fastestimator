{
 "cells": [
  {
   "cell_type": "code",
   "execution_count": 1,
   "metadata": {},
   "outputs": [],
   "source": [
    "import json\n",
    "import numpy as np\n",
    "import pandas as pd\n",
    "\n",
    "from pycocotools.coco import COCO\n",
    "from pycocotools.cocoeval import COCOeval"
   ]
  },
  {
   "cell_type": "code",
   "execution_count": 2,
   "metadata": {},
   "outputs": [],
   "source": [
    "pd.set_option('display.max_colwidth', 800)"
   ]
  },
  {
   "cell_type": "code",
   "execution_count": 3,
   "metadata": {},
   "outputs": [],
   "source": [
    "sample_size = 36335\n",
    "offset = 0\n",
    "area_thresh = 1e5**2\n",
    "\n",
    "batch_size = 8"
   ]
  },
  {
   "cell_type": "markdown",
   "metadata": {},
   "source": [
    "## COCO"
   ]
  },
  {
   "cell_type": "markdown",
   "metadata": {},
   "source": [
    "### Inspect original val2017 GT json"
   ]
  },
  {
   "cell_type": "code",
   "execution_count": 4,
   "metadata": {},
   "outputs": [],
   "source": [
    "with open('./instances_val2017.json', 'r') as f:\n",
    "    ann_dict = json.load(f)"
   ]
  },
  {
   "cell_type": "code",
   "execution_count": 5,
   "metadata": {},
   "outputs": [],
   "source": [
    "assert len(ann_dict['images']) == 5000"
   ]
  },
  {
   "cell_type": "code",
   "execution_count": 6,
   "metadata": {},
   "outputs": [],
   "source": [
    "assert len(ann_dict['annotations']) == 36781"
   ]
  },
  {
   "cell_type": "markdown",
   "metadata": {},
   "source": [
    "### Remove iscrowd "
   ]
  },
  {
   "cell_type": "code",
   "execution_count": 7,
   "metadata": {},
   "outputs": [],
   "source": [
    "df = pd.DataFrame(ann_dict['annotations'])\n",
    "ann_dict['annotations'] = df[df['iscrowd'] == 0].reset_index().to_dict('records')\n",
    "assert len(ann_dict['annotations']) == 36335"
   ]
  },
  {
   "cell_type": "code",
   "execution_count": 8,
   "metadata": {},
   "outputs": [],
   "source": [
    "df = pd.DataFrame(ann_dict['annotations'])"
   ]
  },
  {
   "cell_type": "code",
   "execution_count": 9,
   "metadata": {},
   "outputs": [],
   "source": [
    "assert len(df['image_id'].drop_duplicates()) == 4952"
   ]
  },
  {
   "cell_type": "markdown",
   "metadata": {},
   "source": [
    "### Remove unnecessary key value pairs"
   ]
  },
  {
   "cell_type": "code",
   "execution_count": 10,
   "metadata": {},
   "outputs": [
    {
     "data": {
      "text/plain": [
       "dict_keys(['info', 'licenses', 'images', 'annotations', 'categories'])"
      ]
     },
     "execution_count": 10,
     "metadata": {},
     "output_type": "execute_result"
    }
   ],
   "source": [
    "ann_dict.keys()"
   ]
  },
  {
   "cell_type": "markdown",
   "metadata": {},
   "source": [
    "From top level."
   ]
  },
  {
   "cell_type": "code",
   "execution_count": 11,
   "metadata": {},
   "outputs": [],
   "source": [
    "remove_base = ['info', 'licenses']"
   ]
  },
  {
   "cell_type": "code",
   "execution_count": 12,
   "metadata": {},
   "outputs": [],
   "source": [
    "for key in remove_base:\n",
    "    del ann_dict[key]"
   ]
  },
  {
   "cell_type": "code",
   "execution_count": 13,
   "metadata": {},
   "outputs": [
    {
     "data": {
      "text/plain": [
       "dict_keys(['images', 'annotations', 'categories'])"
      ]
     },
     "execution_count": 13,
     "metadata": {},
     "output_type": "execute_result"
    }
   ],
   "source": [
    "ann_dict.keys()"
   ]
  },
  {
   "cell_type": "markdown",
   "metadata": {},
   "source": [
    "For 'images' sub-dict, keep only 'id'."
   ]
  },
  {
   "cell_type": "code",
   "execution_count": 14,
   "metadata": {},
   "outputs": [],
   "source": [
    "remove_images = ['license', 'file_name', 'coco_url', 'height', 'width', 'date_captured', 'flickr_url']"
   ]
  },
  {
   "cell_type": "code",
   "execution_count": 15,
   "metadata": {},
   "outputs": [],
   "source": [
    "for key in remove_images:\n",
    "    for item in ann_dict['images']:\n",
    "        del item[key]"
   ]
  },
  {
   "cell_type": "code",
   "execution_count": 16,
   "metadata": {},
   "outputs": [
    {
     "data": {
      "text/plain": [
       "{'id': 397133}"
      ]
     },
     "execution_count": 16,
     "metadata": {},
     "output_type": "execute_result"
    }
   ],
   "source": [
    "ann_dict['images'][0]"
   ]
  },
  {
   "cell_type": "markdown",
   "metadata": {},
   "source": [
    "For 'annotations' sub-dict"
   ]
  },
  {
   "cell_type": "code",
   "execution_count": 17,
   "metadata": {},
   "outputs": [],
   "source": [
    "remove_anno = ['segmentation']"
   ]
  },
  {
   "cell_type": "code",
   "execution_count": 18,
   "metadata": {},
   "outputs": [],
   "source": [
    "for key in remove_anno:\n",
    "    for item in ann_dict['annotations']:\n",
    "        del item[key]"
   ]
  },
  {
   "cell_type": "markdown",
   "metadata": {},
   "source": [
    "For 'categories' sub-dict"
   ]
  },
  {
   "cell_type": "code",
   "execution_count": 19,
   "metadata": {},
   "outputs": [],
   "source": [
    "for item in ann_dict['categories']:\n",
    "    del item['supercategory']"
   ]
  },
  {
   "cell_type": "markdown",
   "metadata": {},
   "source": [
    "### Create small GT set"
   ]
  },
  {
   "cell_type": "markdown",
   "metadata": {},
   "source": [
    "Get (sample_size) GT."
   ]
  },
  {
   "cell_type": "code",
   "execution_count": 20,
   "metadata": {},
   "outputs": [],
   "source": [
    "small_ann_dict = ann_dict['annotations'][0 + offset:sample_size + offset]\n",
    "ann_dict['annotations'] = small_ann_dict\n",
    "assert len(ann_dict['annotations']) == sample_size"
   ]
  },
  {
   "cell_type": "markdown",
   "metadata": {},
   "source": [
    "From GT, we collect all the images involved."
   ]
  },
  {
   "cell_type": "code",
   "execution_count": 21,
   "metadata": {},
   "outputs": [
    {
     "name": "stdout",
     "output_type": "stream",
     "text": [
      "4952 images used.\n"
     ]
    }
   ],
   "source": [
    "image_ids = sorted(set([item['image_id'] for item in small_ann_dict[0:sample_size]]))\n",
    "num_images = len(image_ids)\n",
    "print(f'{num_images} images used.')\n",
    "df = pd.DataFrame(ann_dict['images'])\n",
    "small_images = df[df['id'].isin(image_ids)].to_dict('records')"
   ]
  },
  {
   "cell_type": "code",
   "execution_count": 22,
   "metadata": {},
   "outputs": [],
   "source": [
    "ann_dict['images'] = small_images"
   ]
  },
  {
   "cell_type": "code",
   "execution_count": 23,
   "metadata": {},
   "outputs": [],
   "source": [
    "with open('./test.json', 'w') as f:\n",
    "    json.dump(ann_dict, f)"
   ]
  },
  {
   "cell_type": "markdown",
   "metadata": {},
   "source": [
    "### Load GT"
   ]
  },
  {
   "cell_type": "code",
   "execution_count": 24,
   "metadata": {},
   "outputs": [
    {
     "name": "stdout",
     "output_type": "stream",
     "text": [
      "loading annotations into memory...\n",
      "Done (t=0.16s)\n",
      "creating index...\n",
      "index created!\n"
     ]
    }
   ],
   "source": [
    "# annFile = './instances_val2017.json'\n",
    "annFile = './test.json'\n",
    "cocoGt=COCO(annFile)"
   ]
  },
  {
   "cell_type": "code",
   "execution_count": 25,
   "metadata": {},
   "outputs": [],
   "source": [
    "all_gt_id = list(cocoGt.anns.keys())\n",
    "# assert len(all_id) == 36781\n",
    "assert len(all_gt_id) == sample_size"
   ]
  },
  {
   "cell_type": "code",
   "execution_count": 26,
   "metadata": {},
   "outputs": [],
   "source": [
    "all_gt = cocoGt.loadAnns(all_gt_id)"
   ]
  },
  {
   "cell_type": "code",
   "execution_count": 27,
   "metadata": {},
   "outputs": [],
   "source": [
    "gt_df = pd.DataFrame(all_gt)"
   ]
  },
  {
   "cell_type": "code",
   "execution_count": 28,
   "metadata": {},
   "outputs": [],
   "source": [
    "# every gt box has its own unique id\n",
    "assert not gt_df['id'].duplicated().any()"
   ]
  },
  {
   "cell_type": "code",
   "execution_count": 29,
   "metadata": {},
   "outputs": [
    {
     "data": {
      "text/html": [
       "<div>\n",
       "<style scoped>\n",
       "    .dataframe tbody tr th:only-of-type {\n",
       "        vertical-align: middle;\n",
       "    }\n",
       "\n",
       "    .dataframe tbody tr th {\n",
       "        vertical-align: top;\n",
       "    }\n",
       "\n",
       "    .dataframe thead th {\n",
       "        text-align: right;\n",
       "    }\n",
       "</style>\n",
       "<table border=\"1\" class=\"dataframe\">\n",
       "  <thead>\n",
       "    <tr style=\"text-align: right;\">\n",
       "      <th></th>\n",
       "      <th>index</th>\n",
       "      <th>area</th>\n",
       "      <th>iscrowd</th>\n",
       "      <th>image_id</th>\n",
       "      <th>bbox</th>\n",
       "      <th>category_id</th>\n",
       "      <th>id</th>\n",
       "    </tr>\n",
       "  </thead>\n",
       "  <tbody>\n",
       "    <tr>\n",
       "      <th>7</th>\n",
       "      <td>7</td>\n",
       "      <td>16694.40470</td>\n",
       "      <td>0</td>\n",
       "      <td>78823</td>\n",
       "      <td>[197.97, 117.22, 170.45, 222.07]</td>\n",
       "      <td>18</td>\n",
       "      <td>7544</td>\n",
       "    </tr>\n",
       "    <tr>\n",
       "      <th>29</th>\n",
       "      <td>29</td>\n",
       "      <td>9473.41725</td>\n",
       "      <td>0</td>\n",
       "      <td>78823</td>\n",
       "      <td>[58.45, 81.69, 131.53, 125.9]</td>\n",
       "      <td>64</td>\n",
       "      <td>21771</td>\n",
       "    </tr>\n",
       "    <tr>\n",
       "      <th>372</th>\n",
       "      <td>372</td>\n",
       "      <td>91251.48390</td>\n",
       "      <td>0</td>\n",
       "      <td>78823</td>\n",
       "      <td>[9.29, 160.0, 466.58, 314.84]</td>\n",
       "      <td>3</td>\n",
       "      <td>133097</td>\n",
       "    </tr>\n",
       "    <tr>\n",
       "      <th>379</th>\n",
       "      <td>379</td>\n",
       "      <td>26292.74015</td>\n",
       "      <td>0</td>\n",
       "      <td>78823</td>\n",
       "      <td>[1.29, 150.59, 186.23, 261.24]</td>\n",
       "      <td>3</td>\n",
       "      <td>134130</td>\n",
       "    </tr>\n",
       "    <tr>\n",
       "      <th>447</th>\n",
       "      <td>447</td>\n",
       "      <td>4064.22540</td>\n",
       "      <td>0</td>\n",
       "      <td>78823</td>\n",
       "      <td>[594.08, 175.0, 45.2, 128.07]</td>\n",
       "      <td>3</td>\n",
       "      <td>145780</td>\n",
       "    </tr>\n",
       "  </tbody>\n",
       "</table>\n",
       "</div>"
      ],
      "text/plain": [
       "     index         area  iscrowd  image_id                              bbox  \\\n",
       "7        7  16694.40470        0     78823  [197.97, 117.22, 170.45, 222.07]   \n",
       "29      29   9473.41725        0     78823     [58.45, 81.69, 131.53, 125.9]   \n",
       "372    372  91251.48390        0     78823     [9.29, 160.0, 466.58, 314.84]   \n",
       "379    379  26292.74015        0     78823    [1.29, 150.59, 186.23, 261.24]   \n",
       "447    447   4064.22540        0     78823     [594.08, 175.0, 45.2, 128.07]   \n",
       "\n",
       "     category_id      id  \n",
       "7             18    7544  \n",
       "29            64   21771  \n",
       "372            3  133097  \n",
       "379            3  134130  \n",
       "447            3  145780  "
      ]
     },
     "execution_count": 29,
     "metadata": {},
     "output_type": "execute_result"
    }
   ],
   "source": [
    "# image_id can be duplicated, which means the boxes are in one iamge\n",
    "gt_df[gt_df['image_id'] == 78823]"
   ]
  },
  {
   "cell_type": "markdown",
   "metadata": {},
   "source": [
    "### Generate fake pred and save as json"
   ]
  },
  {
   "cell_type": "code",
   "execution_count": 30,
   "metadata": {},
   "outputs": [],
   "source": [
    "anns = cocoGt.loadAnns(all_gt_id[0:sample_size])"
   ]
  },
  {
   "cell_type": "code",
   "execution_count": 31,
   "metadata": {},
   "outputs": [],
   "source": [
    "fake_pred = []\n",
    "np.random.seed(seed=256)\n",
    "scores = np.random.random((sample_size,)) \n",
    "\n",
    "for i, annotation in enumerate(anns):\n",
    "    fake_pred.append({\n",
    "        'image_id': annotation['image_id'],\n",
    "        'category_id': annotation['category_id'],\n",
    "        'bbox': (annotation['bbox'] + 2 * ((1 - (-1)) * np.random.random(4) + 1)).tolist(),\n",
    "        'score': scores[i]\n",
    "    })"
   ]
  },
  {
   "cell_type": "code",
   "execution_count": 32,
   "metadata": {},
   "outputs": [],
   "source": [
    "fake_pred_df = pd.DataFrame(fake_pred).sort_values('image_id').reset_index()"
   ]
  },
  {
   "cell_type": "code",
   "execution_count": 33,
   "metadata": {},
   "outputs": [],
   "source": [
    "assert len(fake_pred_df) == sample_size\n",
    "assert len(fake_pred_df['image_id'].drop_duplicates()) == num_images"
   ]
  },
  {
   "cell_type": "code",
   "execution_count": 34,
   "metadata": {},
   "outputs": [],
   "source": [
    "with open('fake_pred.json', 'wt') as f:\n",
    "    json.dump(fake_pred, f)"
   ]
  },
  {
   "cell_type": "markdown",
   "metadata": {},
   "source": [
    "### mAP using fake pred"
   ]
  },
  {
   "cell_type": "code",
   "execution_count": 35,
   "metadata": {},
   "outputs": [],
   "source": [
    "assert len(cocoGt.anns) == sample_size"
   ]
  },
  {
   "cell_type": "code",
   "execution_count": 36,
   "metadata": {},
   "outputs": [],
   "source": [
    "for gt_id in cocoGt.anns.keys():\n",
    "    assert cocoGt.anns[gt_id]['iscrowd'] == 0"
   ]
  },
  {
   "cell_type": "code",
   "execution_count": 37,
   "metadata": {},
   "outputs": [],
   "source": [
    "for gt_id in cocoGt.anns.keys():\n",
    "    assert cocoGt.anns[gt_id]['area'] < area_thresh\n",
    "    cocoGt.anns[gt_id]['area'] == 0"
   ]
  },
  {
   "cell_type": "code",
   "execution_count": 38,
   "metadata": {
    "scrolled": false
   },
   "outputs": [
    {
     "name": "stdout",
     "output_type": "stream",
     "text": [
      "Loading and preparing results...\n",
      "DONE (t=0.26s)\n",
      "creating index...\n",
      "index created!\n"
     ]
    }
   ],
   "source": [
    "#initialize COCO detections api\n",
    "cocoDt=cocoGt.loadRes('./fake_pred.json')"
   ]
  },
  {
   "cell_type": "code",
   "execution_count": 39,
   "metadata": {},
   "outputs": [
    {
     "name": "stdout",
     "output_type": "stream",
     "text": [
      "Running per image evaluation...\n",
      "Evaluate annotation type *bbox*\n",
      "DONE (t=6.00s).\n",
      "Accumulating evaluation results...\n",
      "DONE (t=0.18s).\n",
      " Average Precision  (AP) @[ IoU=0.50:0.95 | area=   all | maxDets=100 ] = 0.29160866139359581383772024310019\n",
      " Average Precision  (AP) @[ IoU=0.50      | area=   all | maxDets=100 ] = 0.58110729438626751441887563487398\n",
      " Average Precision  (AP) @[ IoU=0.75      | area=   all | maxDets=100 ] = 0.26501573488656765542614834885171\n"
     ]
    }
   ],
   "source": [
    "# running evaluation\n",
    "cocoEval = COCOeval(cocoGt, cocoDt, 'bbox')\n",
    "cocoEval.params.imgIds = image_ids\n",
    "cocoEval.evaluate()\n",
    "cocoEval.accumulate()\n",
    "cocoEval.summarize()"
   ]
  },
  {
   "cell_type": "code",
   "execution_count": 40,
   "metadata": {},
   "outputs": [],
   "source": [
    "for gt_id in cocoGt.anns.keys():\n",
    "    assert len(cocoGt.anns[gt_id].keys()) == 9\n",
    "    assert cocoGt.anns[gt_id]['ignore'] == 0\n",
    "    assert cocoGt.anns[gt_id]['_ignore'] == 0"
   ]
  },
  {
   "cell_type": "code",
   "execution_count": 41,
   "metadata": {},
   "outputs": [],
   "source": [
    "# sample_size = 300\n",
    "# offset = 1\n",
    "\n",
    "# Running per image evaluation...\n",
    "# Evaluate annotation type *bbox*\n",
    "# DONE (t=0.09s).\n",
    "# Accumulating evaluation results...\n",
    "# DONE (t=0.01s).\n",
    "#  Average Precision  (AP) @[ IoU=0.50:0.95 | area=   all | maxDets=100 ] = 0.49353108110035337485754780573188\n",
    "#  Average Precision  (AP) @[ IoU=0.50      | area=   all | maxDets=100 ] = 0.83751546185462277804845143691637\n",
    "#  Average Precision  (AP) @[ IoU=0.75      | area=   all | maxDets=100 ] = 0.54370192869205802299603647043114"
   ]
  },
  {
   "cell_type": "markdown",
   "metadata": {},
   "source": [
    "## FE mAP"
   ]
  },
  {
   "cell_type": "markdown",
   "metadata": {},
   "source": [
    "### Create bbox"
   ]
  },
  {
   "cell_type": "code",
   "execution_count": 42,
   "metadata": {},
   "outputs": [],
   "source": [
    "def generate_bbox(anns):\n",
    "    df = pd.DataFrame(anns).sort_values('image_id').reset_index()\n",
    "    max_num_bbox = df['image_id'].value_counts().values[0]\n",
    "    bbox_shape = (num_images, max_num_bbox, 5)\n",
    "    bbox = np.zeros(bbox_shape)\n",
    "    \n",
    "    for i, image_id in enumerate(image_ids):\n",
    "        temp = df[df['image_id'].isin([image_id])][['bbox', 'category_id']]\n",
    "        bbox[i, 0:len(temp), 0:4] = temp['bbox'].tolist()\n",
    "        bbox[i, 0:len(temp), 4] = temp['category_id'].values\n",
    "        \n",
    "    return bbox"
   ]
  },
  {
   "cell_type": "code",
   "execution_count": 43,
   "metadata": {},
   "outputs": [],
   "source": [
    "def generate_batch_bbox(batch_image_ids):\n",
    "    df = pd.DataFrame(anns).sort_values('image_id').reset_index()\n",
    "    df = df[df['image_id'].isin(batch_image_ids)]\n",
    "    max_num_bbox = df['image_id'].value_counts().values[0]\n",
    "    bbox_shape = (len(batch_image_ids), max_num_bbox, 5)\n",
    "    bbox = np.zeros(bbox_shape)\n",
    "    \n",
    "    for i, image_id in enumerate(batch_image_ids):\n",
    "        temp = df[df['image_id'].isin([image_id])][['bbox', 'category_id']]\n",
    "        bbox[i, 0:len(temp), 0:4] = temp['bbox'].tolist()\n",
    "        bbox[i, 0:len(temp), 4] = temp['category_id'].values\n",
    "        \n",
    "    return bbox"
   ]
  },
  {
   "cell_type": "code",
   "execution_count": 44,
   "metadata": {},
   "outputs": [],
   "source": [
    "# df = pd.DataFrame(anns).sort_values('image_id').reset_index()\n",
    "\n",
    "# max_num_bbox = df['image_id'].value_counts().values[0]\n",
    "\n",
    "# bbox_shape = (num_images, max_num_bbox, 5)\n",
    "# bbox = np.zeros(bbox_shape)\n",
    "\n",
    "# for i, image_id in enumerate(image_ids):\n",
    "#     temp = df[df['image_id'].isin([image_id])][['bbox', 'category_id']]\n",
    "#     bbox[i, 0:len(temp), 0:4] = temp['bbox'].tolist()\n",
    "#     bbox[i, 0:len(temp), 4] = temp['category_id'].values"
   ]
  },
  {
   "cell_type": "markdown",
   "metadata": {},
   "source": [
    "### Create pred"
   ]
  },
  {
   "cell_type": "code",
   "execution_count": 45,
   "metadata": {},
   "outputs": [],
   "source": [
    "def generate_pred(fake_pred_df):\n",
    "    pred = []\n",
    "    for image_id in image_ids:\n",
    "        temp = fake_pred_df[fake_pred_df['image_id'].isin([image_id])][['bbox', 'category_id', 'score']]\n",
    "        array = np.zeros((len(temp), 6))\n",
    "        array[0:len(temp), 0:4] = temp['bbox'].tolist()\n",
    "        array[0:len(temp), 4] = temp['category_id'].values\n",
    "        array[0:len(temp), 5] = temp['score'].values\n",
    "        pred.append(array)\n",
    "        \n",
    "    return pred"
   ]
  },
  {
   "cell_type": "code",
   "execution_count": 46,
   "metadata": {},
   "outputs": [],
   "source": [
    "def generate_batch_pred(batch_image_ids):\n",
    "    pred = []\n",
    "    for image_id in batch_image_ids:\n",
    "        temp = fake_pred_df[fake_pred_df['image_id'].isin([image_id])][['bbox', 'category_id', 'score']]\n",
    "        array = np.zeros((len(temp), 6))\n",
    "        array[0:len(temp), 0:4] = temp['bbox'].tolist()\n",
    "        array[0:len(temp), 4] = temp['category_id'].values\n",
    "        array[0:len(temp), 5] = temp['score'].values\n",
    "        pred.append(array)\n",
    "        \n",
    "    return pred"
   ]
  },
  {
   "cell_type": "markdown",
   "metadata": {},
   "source": [
    "### Calculate mAP"
   ]
  },
  {
   "cell_type": "code",
   "execution_count": 47,
   "metadata": {},
   "outputs": [],
   "source": [
    "from fastestimator.trace.metric import MeanAveragePrecision"
   ]
  },
  {
   "cell_type": "code",
   "execution_count": 48,
   "metadata": {},
   "outputs": [],
   "source": [
    "mAP = MeanAveragePrecision(num_classes=90)"
   ]
  },
  {
   "cell_type": "code",
   "execution_count": 49,
   "metadata": {},
   "outputs": [],
   "source": [
    "data = {}\n",
    "data['pred'] = generate_pred(fake_pred_df)\n",
    "data['bbox'] = generate_bbox(anns)"
   ]
  },
  {
   "cell_type": "code",
   "execution_count": 50,
   "metadata": {},
   "outputs": [],
   "source": [
    "mAP.on_epoch_begin(None)"
   ]
  },
  {
   "cell_type": "code",
   "execution_count": 51,
   "metadata": {},
   "outputs": [],
   "source": [
    "for i in range(int(num_images/batch_size)):\n",
    "    data = {}\n",
    "    data['pred'] = generate_batch_pred(image_ids[i*batch_size:(i+1)*batch_size])\n",
    "    data['bbox'] = generate_batch_bbox(image_ids[i*batch_size:(i+1)*batch_size])\n",
    "    mAP.on_batch_begin(None)\n",
    "    mAP.on_batch_end(data)"
   ]
  },
  {
   "cell_type": "code",
   "execution_count": 52,
   "metadata": {},
   "outputs": [],
   "source": [
    "mAP.on_epoch_end(data)"
   ]
  },
  {
   "cell_type": "code",
   "execution_count": 53,
   "metadata": {},
   "outputs": [
    {
     "name": "stdout",
     "output_type": "stream",
     "text": [
      "0.29160866139359581383772024310019\n"
     ]
    }
   ],
   "source": [
    "mAP = data['mAP']\n",
    "print(f\"{mAP:.32f}\")"
   ]
  },
  {
   "cell_type": "code",
   "execution_count": 54,
   "metadata": {},
   "outputs": [
    {
     "name": "stdout",
     "output_type": "stream",
     "text": [
      "0.58110729438626751441887563487398\n"
     ]
    }
   ],
   "source": [
    "ap50 = data['AP50']\n",
    "print(f\"{ap50:.32f}\")"
   ]
  },
  {
   "cell_type": "code",
   "execution_count": 55,
   "metadata": {},
   "outputs": [
    {
     "name": "stdout",
     "output_type": "stream",
     "text": [
      "0.26501573488656765542614834885171\n"
     ]
    }
   ],
   "source": [
    "ap75 = data['AP75']\n",
    "print(f\"{ap75:.32f}\")"
   ]
  }
 ],
 "metadata": {
  "kernelspec": {
   "display_name": "Python 3",
   "language": "python",
   "name": "python3"
  },
  "language_info": {
   "codemirror_mode": {
    "name": "ipython",
    "version": 3
   },
   "file_extension": ".py",
   "mimetype": "text/x-python",
   "name": "python",
   "nbconvert_exporter": "python",
   "pygments_lexer": "ipython3",
   "version": "3.7.7"
  },
  "toc": {
   "base_numbering": 1,
   "nav_menu": {},
   "number_sections": true,
   "sideBar": true,
   "skip_h1_title": false,
   "title_cell": "Table of Contents",
   "title_sidebar": "Contents",
   "toc_cell": false,
   "toc_position": {
    "height": "calc(100% - 180px)",
    "left": "10px",
    "top": "150px",
    "width": "249.391px"
   },
   "toc_section_display": true,
   "toc_window_display": true
  }
 },
 "nbformat": 4,
 "nbformat_minor": 4
}
